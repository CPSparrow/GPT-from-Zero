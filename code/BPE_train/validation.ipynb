{
 "cells": [
  {
   "cell_type": "markdown",
   "metadata": {},
   "source": [
    "## 测试：bpe分词是否有效\n",
    "结论：**可以**"
   ]
  },
  {
   "cell_type": "code",
   "execution_count": 3,
   "metadata": {},
   "outputs": [
    {
     "name": "stdout",
     "output_type": "stream",
     "text": [
      "端午|节|是|中国|的|传统|节日|之一|，|粽子|作为|节日|的|象征|，\n"
     ]
    }
   ],
   "source": [
    "import os\n",
    "import json\n",
    "from tokenizers import Tokenizer\n",
    "\n",
    "# output:\n",
    "# 端午|节|是|中国|的|传统|节日|之一|，|粽子|作为|节日|的|象征|，\n",
    "\n",
    "text = '端午节是中国的传统节日之一，粽子作为节日的象征，'\n",
    "with open('./bpe_cfg.json', 'r', encoding='utf-8') as cfg_src:\n",
    "    cfg = json.load(cfg_src)\n",
    "\n",
    "bpe_dir = cfg['bpe_dir']\n",
    "bpe_name = cfg['bpe_name']\n",
    "\n",
    "os.chdir('../../')\n",
    "tokenizer = Tokenizer.from_file(os.path.join(bpe_dir, bpe_name))\n",
    "id = tokenizer.encode(text).ids\n",
    "print('|'.join(tokenizer.decode([i]) for i in id))\n",
    "os.chdir('./code/BPE_train')"
   ]
  },
  {
   "cell_type": "code",
   "execution_count": null,
   "metadata": {},
   "outputs": [],
   "source": [
    "import jsonlines\n",
    "def load_jsonl(file: str, start: int, step: int):\n",
    "    \"\"\"\n",
    "    return by yielding str\n",
    "\n",
    "    Args:\n",
    "        file (str): file path\n",
    "        start (int): start index\n",
    "        step (int): lines to train\n",
    "\n",
    "    Yields:\n",
    "        str: text line\n",
    "    \"\"\"\n",
    "    with open(file, 'r', encoding='utf-8') as src:\n",
    "        for index, item in enumerate(jsonlines.Reader(src)):\n",
    "            if index < start:\n",
    "                continue\n",
    "            if index == start+step:\n",
    "                break\n",
    "            yield item['Content']"
   ]
  }
 ],
 "metadata": {
  "kernelspec": {
   "display_name": "torchEnv",
   "language": "python",
   "name": "python3"
  },
  "language_info": {
   "codemirror_mode": {
    "name": "ipython",
    "version": 3
   },
   "file_extension": ".py",
   "mimetype": "text/x-python",
   "name": "python",
   "nbconvert_exporter": "python",
   "pygments_lexer": "ipython3",
   "version": "3.10.14"
  }
 },
 "nbformat": 4,
 "nbformat_minor": 2
}
